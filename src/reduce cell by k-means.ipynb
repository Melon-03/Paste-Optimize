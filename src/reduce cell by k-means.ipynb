{
 "cells": [
  {
   "cell_type": "code",
   "execution_count": null,
   "metadata": {},
   "outputs": [],
   "source": [
    "import numpy as np\n",
    "import anndata as ad\n",
    "\n",
    "# adata是原始AnnData对象\n",
    "# 假设要合成的点位索引在python列表indices中\n",
    "\n",
    "# 计算坐标的平均值\n",
    "coords_mean = np.mean(adata.obsm['spatial'][indices, :], axis=0)\n",
    "\n",
    "# 合并基因表达数据，这里我们取平均值\n",
    "expr_mean = np.mean(adata.X[indices, :], axis=0)\n",
    "\n",
    "# 创建一个新的点位数据矩阵和坐标矩阵\n",
    "new_data_matrix = np.vstack([adata.X, expr_mean])\n",
    "new_spatial_coords = np.vstack([adata.obsm['spatial'], coords_mean])\n",
    "\n",
    "# 创建一个新的AnnData对象或更新原有对象\n",
    "# 这里创建一个新的示例\n",
    "new_adata = ad.AnnData(X=new_data_matrix)\n",
    "new_adata.obsm['spatial'] = new_spatial_coords\n",
    "\n",
    "# 如果有其他注释需要复制，也可以在这里操作\n",
    "# 例如，复制基因名\n",
    "new_adata.var_names = adata.var_names\n",
    "\n",
    "# 注意，合成点位后可能需要更新.obs等其他注释\n"
   ]
  },
  {
   "cell_type": "code",
   "execution_count": 11,
   "metadata": {},
   "outputs": [
    {
     "name": "stdout",
     "output_type": "stream",
     "text": [
      "[[0 0 0]\n",
      " [1 2 2]\n",
      " [1 0 2]\n",
      " [1 0 0]\n",
      " [1 1 0]\n",
      " [1 0 2]\n",
      " [1 2 2]\n",
      " [1 0 0]\n",
      " [2 0 1]\n",
      " [0 2 0]\n",
      " [1 2 1]\n",
      " [0 2 2]\n",
      " [1 0 1]\n",
      " [0 2 1]\n",
      " [1 1 2]\n",
      " [1 0 0]\n",
      " [1 1 0]\n",
      " [2 2 0]\n",
      " [1 0 2]\n",
      " [1 1 0]\n",
      " [2 1 0]\n",
      " [1 1 2]\n",
      " [1 0 0]\n",
      " [1 0 2]\n",
      " [2 2 0]\n",
      " [2 1 0]\n",
      " [1 1 0]\n",
      " [0 0 1]\n",
      " [2 0 1]\n",
      " [2 0 1]]\n",
      "[[8 7]\n",
      " [5 8]\n",
      " [7 4]\n",
      " [6 6]\n",
      " [2 4]\n",
      " [3 8]\n",
      " [7 2]\n",
      " [6 2]\n",
      " [9 7]\n",
      " [2 6]\n",
      " [1 7]\n",
      " [5 4]\n",
      " [5 2]\n",
      " [9 6]\n",
      " [5 8]\n",
      " [4 6]\n",
      " [6 8]\n",
      " [7 3]\n",
      " [7 7]\n",
      " [0 9]\n",
      " [4 4]\n",
      " [7 4]\n",
      " [7 6]\n",
      " [1 1]\n",
      " [1 4]\n",
      " [9 2]\n",
      " [9 1]\n",
      " [3 0]\n",
      " [9 4]\n",
      " [2 2]]\n"
     ]
    }
   ],
   "source": [
    "import numpy as np\n",
    "from sklearn.neighbors import NearestNeighbors\n",
    "import anndata as ad\n",
    "\n",
    "\n",
    "\"\"\" def reduce_cell(slice:ad.AnnData):\n",
    "    # 假设slice是原始的AnnData对象\n",
    "\n",
    "    # 计算空间点位的距离矩阵\n",
    "    coords = slice.obsm['spatial']\n",
    "    nbrs = NearestNeighbors(n_neighbors=3, algorithm='auto').fit(coords)\n",
    "    distances, indices = nbrs.kneighbors(coords)\n",
    "\n",
    "    # 初始化新的数据结构\n",
    "    new_coords = []\n",
    "    new_data_matrix = []\n",
    "\n",
    "    # 对于每组最近邻，计算坐标和基因表达的均值\n",
    "    for idx_group in indices:\n",
    "        # 计算坐标的均值\n",
    "        group_coords = coords[idx_group].mean(axis=0)\n",
    "        new_coords.append(group_coords)\n",
    "        \n",
    "        # 计算基因表达的均值\n",
    "        group_expr = slice.X[idx_group].mean(axis=0)\n",
    "        new_data_matrix.append(group_expr)\n",
    "\n",
    "    # 将列表转换为numpy数组\n",
    "    new_coords = np.array(new_coords)\n",
    "    new_data_matrix = np.vstack(new_data_matrix)\n",
    "\n",
    "    # 创建新的AnnData对象\n",
    "    new_slice = ad.AnnData(X=new_data_matrix)\n",
    "    new_slice.obsm['spatial'] = new_coords\n",
    "    new_slice.var_names = slice.var_names\n",
    "\n",
    "    print(new_slice.obsm['spatial'])\n",
    "    print(new_slice.X) \"\"\"\n",
    "\n",
    "\n",
    "data_matrix = np.random.randint(0,3,size=(30,3))\n",
    "print(data_matrix)\n",
    "slice = ad.AnnData(X=data_matrix)\n",
    "slice.obsm['spatial'] = np.random.randint(0,10,size=(30,2))\n",
    "print(slice.obsm['spatial'])   \n"
   ]
  },
  {
   "cell_type": "code",
   "execution_count": 4,
   "metadata": {},
   "outputs": [],
   "source": [
    "import numpy as np\n",
    "from sklearn.cluster import KMeans\n",
    "import anndata as ad\n",
    "\n",
    "\n",
    "def reduce_cell(slice:ad.AnnData):\n",
    "    # 计算聚类数（大约每10个点位形成一个聚类）\n",
    "    n_clusters = max(len(slice) // 10, 1) # 确保至少有一个聚类\n",
    "\n",
    "    # 应用k-means聚类\n",
    "    coords = slice.obsm['spatial']\n",
    "    kmeans = KMeans(n_clusters=n_clusters, random_state=42).fit(coords)\n",
    "\n",
    "    # 初始化新的数据结构\n",
    "    new_coords = np.zeros((n_clusters, coords.shape[1]))\n",
    "    new_data_matrix = np.zeros((n_clusters, slice.X.shape[1]))\n",
    "\n",
    "    # 对于每个聚类，计算坐标和基因表达的均值\n",
    "    for i in range(n_clusters):\n",
    "        cluster_indices = np.where(kmeans.labels_ == i)[0]\n",
    "        new_coords[i] = coords[cluster_indices].mean(axis=0)\n",
    "        new_data_matrix[i] = slice.X[cluster_indices].mean(axis=0)\n",
    "\n",
    "    # 创建新的AnnData对象\n",
    "    new_slice = ad.AnnData(X=new_data_matrix)\n",
    "    new_slice.obsm['spatial'] = new_coords\n",
    "    new_slice.var_names = slice.var_names\n",
    "\n",
    "    #print(new_slice.obsm['spatial'])\n",
    "    #print(new_slice.X)\n",
    "    return new_slice\n"
   ]
  },
  {
   "cell_type": "code",
   "execution_count": 5,
   "metadata": {},
   "outputs": [
    {
     "name": "stdout",
     "output_type": "stream",
     "text": [
      "Using selected backend cpu. If you want to use gpu, set use_gpu = True.\n"
     ]
    },
    {
     "data": {
      "image/png": "[encoded data removed]",
      "text/plain": [
       "<Figure size 700x700 with 1 Axes>"
      ]
     },
     "metadata": {},
     "output_type": "display_data"
    },
    {
     "name": "stdout",
     "output_type": "stream",
     "text": [
      "Using selected backend cpu. If you want to use gpu, set use_gpu = True.\n",
      "Filtered all slices for common genes. There are 7224 common genes.\n"
     ]
    },
    {
     "name": "stderr",
     "output_type": "stream",
     "text": [
      "c:\\Users\\Administrator\\AppData\\Local\\Programs\\Python\\Python39\\lib\\site-packages\\sklearn\\decomposition\\_nmf.py:1770: ConvergenceWarning: Maximum number of iterations 200 reached. Increase it to improve convergence.\n",
      "  warnings.warn(\n"
     ]
    },
    {
     "name": "stdout",
     "output_type": "stream",
     "text": [
      "Iteration: 0\n",
      "Solving Pairwise Slice Alignment Problem.\n",
      "Solving Center Mapping NMF Problem.\n"
     ]
    },
    {
     "name": "stderr",
     "output_type": "stream",
     "text": [
      "c:\\Users\\Administrator\\AppData\\Local\\Programs\\Python\\Python39\\lib\\site-packages\\sklearn\\decomposition\\_nmf.py:1770: ConvergenceWarning: Maximum number of iterations 200 reached. Increase it to improve convergence.\n",
      "  warnings.warn(\n"
     ]
    },
    {
     "name": "stdout",
     "output_type": "stream",
     "text": [
      "Objective  -27.24649219750883\n",
      "Difference: 27.24649219750883\n",
      "\n",
      "Iteration: 1\n",
      "Solving Pairwise Slice Alignment Problem.\n",
      "Solving Center Mapping NMF Problem.\n"
     ]
    },
    {
     "name": "stderr",
     "output_type": "stream",
     "text": [
      "c:\\Users\\Administrator\\AppData\\Local\\Programs\\Python\\Python39\\lib\\site-packages\\sklearn\\decomposition\\_nmf.py:1770: ConvergenceWarning: Maximum number of iterations 200 reached. Increase it to improve convergence.\n",
      "  warnings.warn(\n"
     ]
    },
    {
     "name": "stdout",
     "output_type": "stream",
     "text": [
      "Objective  1.3415247267431796\n",
      "Difference: 28.58801692425201\n",
      "\n",
      "Iteration: 2\n",
      "Solving Pairwise Slice Alignment Problem.\n",
      "Solving Center Mapping NMF Problem.\n",
      "Objective  1.3416433559539787\n",
      "Difference: 0.00011862921079908162\n",
      "\n"
     ]
    },
    {
     "name": "stderr",
     "output_type": "stream",
     "text": [
      "c:\\Users\\Administrator\\AppData\\Local\\Programs\\Python\\Python39\\lib\\site-packages\\sklearn\\decomposition\\_nmf.py:1770: ConvergenceWarning: Maximum number of iterations 200 reached. Increase it to improve convergence.\n",
      "  warnings.warn(\n"
     ]
    }
   ],
   "source": [
    "import matplotlib.pyplot as plt\n",
    "import matplotlib.patches as mpatches\n",
    "import numpy as np\n",
    "import scanpy as sc\n",
    "import paste as pst\n",
    "\n",
    "# Load Slices\n",
    "data_dir = '../sample_data/' # change this path to the data you wish to analyze\n",
    "\n",
    "# Assume that the coordinates of slices are named slice_name + \"_coor.csv\"\n",
    "def load_slices(data_dir, slice_names=[\"slice1\", \"slice2\"]):\n",
    "    slices = []  \n",
    "    for slice_name in slice_names:\n",
    "        slice_i = sc.read_csv(data_dir + slice_name + \".csv\")\n",
    "        slice_i_coor = np.genfromtxt(data_dir + slice_name + \"_coor.csv\", delimiter = ',')\n",
    "        slice_i.obsm['spatial'] = slice_i_coor\n",
    "        # Preprocess slices\n",
    "        sc.pp.filter_genes(slice_i, min_counts = 15)\n",
    "        sc.pp.filter_cells(slice_i, min_counts = 100)\n",
    "        slices.append(slice_i)\n",
    "    return slices\n",
    "\n",
    "slices = load_slices(data_dir)\n",
    "slice1, slice2 = slices\n",
    "\n",
    "# Pairwise align the slices\n",
    "pi12 = pst.pairwise_align(slice1, slice2)\n",
    "\n",
    "# To visualize the alignment you can stack the slices \n",
    "# according to the alignment pi\n",
    "slices, pis = [slice1, slice2], [pi12]\n",
    "new_slices = pst.stack_slices_pairwise(slices, pis)\n",
    "\n",
    "slice_colors = ['#e41a1c','#377eb8']\n",
    "plt.figure(figsize=(7,7))\n",
    "for i in range(len(new_slices)):\n",
    "    pst.plot_slice(new_slices[i],slice_colors[i],s=400)\n",
    "plt.legend(handles=[mpatches.Patch(color=slice_colors[0], label='1'),mpatches.Patch(color=slice_colors[1], label='2')])\n",
    "plt.gca().invert_yaxis()\n",
    "plt.axis('off')\n",
    "plt.show()\n",
    "\n",
    "# Center align slices\n",
    "## We have to reload the slices as pairwise_alignment modifies the slices.\n",
    "slices = load_slices(data_dir)\n",
    "slice1, slice2 = slices\n",
    "\n",
    "# Construct a center slice\n",
    "## choose one of the slices as the coordinate reference for the center slice,\n",
    "## i.e. the center slice will have the same number of spots as this slice and\n",
    "## the same coordinates.\n",
    "initial_slice = slice1.copy()    \n",
    "slices = [slice1, slice2]\n",
    "lmbda = len(slices)*[1/len(slices)] # set hyperparameter to be uniform\n",
    "\n",
    "## Possible to pass in an initial pi (as keyword argument pis_init) \n",
    "## to improve performance, see Tutorial.ipynb notebook for more details.\n",
    "center_slice, pis = pst.center_align(initial_slice, slices, lmbda) \n",
    "\n",
    "## The low dimensional representation of our center slice is held \n",
    "## in the matrices W and H, which can be used for downstream analyses\n",
    "W = center_slice.uns['paste_W']\n",
    "H = center_slice.uns['paste_H']"
   ]
  },
  {
   "cell_type": "code",
   "execution_count": 6,
   "metadata": {},
   "outputs": [
    {
     "name": "stdout",
     "output_type": "stream",
     "text": [
      "Using selected backend cpu. If you want to use gpu, set use_gpu = True.\n"
     ]
    },
    {
     "data": {
      "image/png": "[encoded data removed]",
      "text/plain": [
       "<Figure size 700x700 with 1 Axes>"
      ]
     },
     "metadata": {},
     "output_type": "display_data"
    },
    {
     "name": "stdout",
     "output_type": "stream",
     "text": [
      "Using selected backend cpu. If you want to use gpu, set use_gpu = True.\n",
      "Filtered all slices for common genes. There are 7224 common genes.\n"
     ]
    },
    {
     "name": "stderr",
     "output_type": "stream",
     "text": [
      "c:\\Users\\Administrator\\AppData\\Local\\Programs\\Python\\Python39\\lib\\site-packages\\sklearn\\decomposition\\_nmf.py:1770: ConvergenceWarning: Maximum number of iterations 200 reached. Increase it to improve convergence.\n",
      "  warnings.warn(\n"
     ]
    },
    {
     "name": "stdout",
     "output_type": "stream",
     "text": [
      "Iteration: 0\n",
      "Solving Pairwise Slice Alignment Problem.\n",
      "Solving Center Mapping NMF Problem.\n"
     ]
    },
    {
     "name": "stderr",
     "output_type": "stream",
     "text": [
      "c:\\Users\\Administrator\\AppData\\Local\\Programs\\Python\\Python39\\lib\\site-packages\\sklearn\\decomposition\\_nmf.py:1770: ConvergenceWarning: Maximum number of iterations 200 reached. Increase it to improve convergence.\n",
      "  warnings.warn(\n"
     ]
    },
    {
     "name": "stdout",
     "output_type": "stream",
     "text": [
      "Objective  -27.250554711639253\n",
      "Difference: 27.250554711639253\n",
      "\n",
      "Iteration: 1\n",
      "Solving Pairwise Slice Alignment Problem.\n",
      "Solving Center Mapping NMF Problem.\n"
     ]
    },
    {
     "name": "stderr",
     "output_type": "stream",
     "text": [
      "c:\\Users\\Administrator\\AppData\\Local\\Programs\\Python\\Python39\\lib\\site-packages\\sklearn\\decomposition\\_nmf.py:1770: ConvergenceWarning: Maximum number of iterations 200 reached. Increase it to improve convergence.\n",
      "  warnings.warn(\n"
     ]
    },
    {
     "name": "stdout",
     "output_type": "stream",
     "text": [
      "Objective  1.345780330184105\n",
      "Difference: 28.59633504182336\n",
      "\n",
      "Iteration: 2\n",
      "Solving Pairwise Slice Alignment Problem.\n",
      "Solving Center Mapping NMF Problem.\n"
     ]
    },
    {
     "name": "stderr",
     "output_type": "stream",
     "text": [
      "c:\\Users\\Administrator\\AppData\\Local\\Programs\\Python\\Python39\\lib\\site-packages\\sklearn\\decomposition\\_nmf.py:1770: ConvergenceWarning: Maximum number of iterations 200 reached. Increase it to improve convergence.\n",
      "  warnings.warn(\n"
     ]
    },
    {
     "name": "stdout",
     "output_type": "stream",
     "text": [
      "Objective  1.3431527365046432\n",
      "Difference: 0.0026275936794617483\n",
      "\n",
      "Iteration: 3\n",
      "Solving Pairwise Slice Alignment Problem.\n",
      "Solving Center Mapping NMF Problem.\n",
      "Objective  1.3425940815603674\n",
      "Difference: 0.0005586549442757605\n",
      "\n"
     ]
    },
    {
     "name": "stderr",
     "output_type": "stream",
     "text": [
      "c:\\Users\\Administrator\\AppData\\Local\\Programs\\Python\\Python39\\lib\\site-packages\\sklearn\\decomposition\\_nmf.py:1770: ConvergenceWarning: Maximum number of iterations 200 reached. Increase it to improve convergence.\n",
      "  warnings.warn(\n"
     ]
    }
   ],
   "source": [
    "import matplotlib.pyplot as plt\n",
    "import matplotlib.patches as mpatches\n",
    "import numpy as np\n",
    "import scanpy as sc\n",
    "import paste as pst\n",
    "\n",
    "# Load Slices\n",
    "data_dir = '../sample_data/' # change this path to the data you wish to analyze\n",
    "\n",
    "# Assume that the coordinates of slices are named slice_name + \"_coor.csv\"\n",
    "def load_slices(data_dir, slice_names=[\"slice1\", \"slice2\"]):\n",
    "    slices = []  \n",
    "    for slice_name in slice_names:\n",
    "        slice_i = sc.read_csv(data_dir + slice_name + \".csv\")\n",
    "        slice_i_coor = np.genfromtxt(data_dir + slice_name + \"_coor.csv\", delimiter = ',')\n",
    "        slice_i.obsm['spatial'] = slice_i_coor\n",
    "        # Preprocess slices\n",
    "        sc.pp.filter_genes(slice_i, min_counts = 15)\n",
    "        sc.pp.filter_cells(slice_i, min_counts = 100)\n",
    "        slices.append(slice_i)\n",
    "    return slices\n",
    "\n",
    "slices = load_slices(data_dir)\n",
    "slice1, slice2 = slices\n",
    "#细胞缩点\n",
    "slice1 = reduce_cell(slice1)\n",
    "slice2 = reduce_cell(slice2)\n",
    "\n",
    "# Pairwise align the slices\n",
    "pi12 = pst.pairwise_align(slice1, slice2)\n",
    "\n",
    "# To visualize the alignment you can stack the slices \n",
    "# according to the alignment pi\n",
    "slices, pis = [slice1, slice2], [pi12]\n",
    "new_slices = pst.stack_slices_pairwise(slices, pis)\n",
    "\n",
    "slice_colors = ['#e41a1c','#377eb8']\n",
    "plt.figure(figsize=(7,7))\n",
    "for i in range(len(new_slices)):\n",
    "    pst.plot_slice(new_slices[i],slice_colors[i],s=400)\n",
    "plt.legend(handles=[mpatches.Patch(color=slice_colors[0], label='1'),mpatches.Patch(color=slice_colors[1], label='2')])\n",
    "plt.gca().invert_yaxis()\n",
    "plt.axis('off')\n",
    "plt.show()\n",
    "\n",
    "# Center align slices\n",
    "## We have to reload the slices as pairwise_alignment modifies the slices.\n",
    "slices = load_slices(data_dir)\n",
    "slice1, slice2 = slices\n",
    "\n",
    "# Construct a center slice\n",
    "## choose one of the slices as the coordinate reference for the center slice,\n",
    "## i.e. the center slice will have the same number of spots as this slice and\n",
    "## the same coordinates.\n",
    "initial_slice = slice1.copy()    \n",
    "slices = [slice1, slice2]\n",
    "lmbda = len(slices)*[1/len(slices)] # set hyperparameter to be uniform\n",
    "\n",
    "## Possible to pass in an initial pi (as keyword argument pis_init) \n",
    "## to improve performance, see Tutorial.ipynb notebook for more details.\n",
    "center_slice, pis = pst.center_align(initial_slice, slices, lmbda) \n",
    "\n",
    "## The low dimensional representation of our center slice is held \n",
    "## in the matrices W and H, which can be used for downstream analyses\n",
    "W = center_slice.uns['paste_W']\n",
    "H = center_slice.uns['paste_H']"
   ]
  }
 ],
 "metadata": {
  "kernelspec": {
   "display_name": "Python 3",
   "language": "python",
   "name": "python3"
  },
  "language_info": {
   "codemirror_mode": {
    "name": "ipython",
    "version": 3
   },
   "file_extension": ".py",
   "mimetype": "text/x-python",
   "name": "python",
   "nbconvert_exporter": "python",
   "pygments_lexer": "ipython3",
   "version": "3.9.7"
  }
 },
 "nbformat": 4,
 "nbformat_minor": 2
}
