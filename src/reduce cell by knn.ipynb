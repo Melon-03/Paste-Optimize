{
 "cells": [
  {
   "cell_type": "code",
   "execution_count": null,
   "metadata": {},
   "outputs": [],
   "source": [
    "import numpy as np\n",
    "import anndata as ad\n",
    "\n",
    "# 假设adata是你的原始AnnData对象\n",
    "# 假设要合成的点位索引在python列表indices中\n",
    "\n",
    "# 计算坐标的平均值\n",
    "coords_mean = np.mean(adata.obsm['spatial'][indices, :], axis=0)\n",
    "\n",
    "# 合并基因表达数据，这里我们取平均值\n",
    "expr_mean = np.mean(adata.X[indices, :], axis=0)\n",
    "\n",
    "# 创建一个新的点位数据矩阵和坐标矩阵\n",
    "new_data_matrix = np.vstack([adata.X, expr_mean])\n",
    "new_spatial_coords = np.vstack([adata.obsm['spatial'], coords_mean])\n",
    "\n",
    "# 创建一个新的AnnData对象或更新原有对象\n",
    "# 这里创建一个新的示例\n",
    "new_adata = ad.AnnData(X=new_data_matrix)\n",
    "new_adata.obsm['spatial'] = new_spatial_coords\n",
    "\n",
    "# 如果有其他注释需要复制，也可以在这里操作\n",
    "# 例如，复制基因名\n",
    "new_adata.var_names = adata.var_names\n",
    "\n",
    "# 注意，合成点位后可能需要更新.obs等其他注释\n"
   ]
  },
  {
   "cell_type": "code",
   "execution_count": 5,
   "metadata": {},
   "outputs": [
    {
     "name": "stdout",
     "output_type": "stream",
     "text": [
      "[[1 0 0]\n",
      " [0 2 2]\n",
      " [0 2 0]\n",
      " [2 1 0]\n",
      " [1 0 2]\n",
      " [1 2 1]\n",
      " [0 1 1]\n",
      " [1 0 1]\n",
      " [2 1 0]]\n"
     ]
    }
   ],
   "source": [
    "import numpy as np\n",
    "from sklearn.neighbors import NearestNeighbors\n",
    "import anndata as ad\n",
    "\n",
    "\n",
    "def reduce_cell(slice:ad.AnnData):\n",
    "    # 假设slice是原始的AnnData对象\n",
    "\n",
    "    # 计算空间点位的距离矩阵\n",
    "    coords = slice.obsm['spatial']\n",
    "    nbrs = NearestNeighbors(n_neighbors=10, algorithm='auto').fit(coords)\n",
    "    distances, indices = nbrs.kneighbors(coords)\n",
    "\n",
    "    # 初始化新的数据结构\n",
    "    new_coords = []\n",
    "    new_data_matrix = []\n",
    "\n",
    "    # 对于每组最近邻，计算坐标和基因表达的均值\n",
    "    for idx_group in indices:\n",
    "        # 计算坐标的均值\n",
    "        group_coords = coords[idx_group].mean(axis=0)\n",
    "        new_coords.append(group_coords)\n",
    "        \n",
    "        # 计算基因表达的均值\n",
    "        group_expr = slice.X[idx_group].mean(axis=0)\n",
    "        new_data_matrix.append(group_expr)\n",
    "\n",
    "    # 将列表转换为numpy数组\n",
    "    new_coords = np.array(new_coords)\n",
    "    new_data_matrix = np.vstack(new_data_matrix)\n",
    "\n",
    "    # 创建新的AnnData对象\n",
    "    new_slice = ad.AnnData(X=new_data_matrix)\n",
    "    new_slice.obsm['spatial'] = new_coords\n",
    "    new_slice.var_names = slice.var_names\n",
    "\n",
    "    print(new_slice)\n",
    "\n",
    "\n",
    "data_matrix = np.random.randint(0,3,size=(9,3))\n",
    "#print(data_matrix)\n",
    "slice = ad.AnnData(X=data_matrix)\n",
    "    \n"
   ]
  }
 ],
 "metadata": {
  "kernelspec": {
   "display_name": "Python 3",
   "language": "python",
   "name": "python3"
  },
  "language_info": {
   "codemirror_mode": {
    "name": "ipython",
    "version": 3
   },
   "file_extension": ".py",
   "mimetype": "text/x-python",
   "name": "python",
   "nbconvert_exporter": "python",
   "pygments_lexer": "ipython3",
   "version": "3.12.2"
  }
 },
 "nbformat": 4,
 "nbformat_minor": 2
}
